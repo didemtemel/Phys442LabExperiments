{
 "cells": [
  {
   "cell_type": "code",
   "execution_count": 1,
   "metadata": {
    "colab": {},
    "colab_type": "code",
    "id": "jlYWXhBbHNg_"
   },
   "outputs": [],
   "source": [
    "import matplotlib.pyplot as plt\n",
    "import numpy as np \n",
    "from scipy.optimize import curve_fit\n",
    "from scipy.signal import find_peaks\n",
    "from numpy import *\n",
    "from pylab import *\n"
   ]
  },
  {
   "cell_type": "code",
   "execution_count": 2,
   "metadata": {
    "colab": {},
    "colab_type": "code",
    "id": "UeEcyG77HPlh"
   },
   "outputs": [],
   "source": [
    "# Dataset:\n",
    "\n",
    "Current = [0.04\t, 0.12\t, 0.05\t, 0.05\t, 0.055\t, 0.095\t, 0.155\t, 0.22\t, 0.465\t,\n",
    "           0.54\t, 0.835\t, 0.7\t, 0.245\t, 0.25\t, 0.175\t, 0.335\t, 0.09\t, 0.18\t, \n",
    "           0.15\t, 0.105\t, 0.185\t, 0.2\t, 0.11\t, 0.17\t, 0.34\t, 0.36\t, 0.74\t, \n",
    "           0.93\t, 1.165\t, 1.46\t, 1.655\t, 1.405\t, 1.275\t, 1.05\t, 0.665\t, 0.455\t,\n",
    "           0.4\t, 0.32\t, 0.205\t, 0.175\t, 0.175\t, 0.205\t, 0.285\t, 0.53\t, 0.5\t, \n",
    "           1.025\t, 1.305\t, 1.825\t, 2.15\t, 2.43\t, 2.47\t, 2.065\t, 1.595\t, 1.175\t,\n",
    "           0.84\t, 0.485\t, 0.51\t, 0.325\t, 0.265\t, 0.245\t, 0.375\t, 0.38\t, 0.645\t, \n",
    "           0.875\t, 1.24\t, 1.76\t, 2.225\t, 2.77\t, 3.045\t, 3.215\t, 3\t, 2.705\t, \n",
    "           2.065\t, 1.65\t, 1.215\t, 0.785\t, 0.66\t, 0.53\t, 0.48\t, 0.5\t, 0.485\t, \n",
    "           0.465\t, 0.955\t, 1.31\t, 1.86\t, 2.47\t, 3.11\t, 3.675\t, 3.96\t, 3.97\t, \n",
    "           3.735\t, 3.265\t, 2.665\t, 2.095\t, 1.615\t, 1.225\t, 0.955\t, 0.76\t, 0.75\t]\n",
    "Voltage = [\t6.9\t, 7.2\t, 7.5\t, 7.5\t, 7.8\t, 8.1\t, 8.4\t, 8.7\t, 8.85\t, 9.15\t, 9.45\t,\n",
    "           10.2\t, 10.95\t, 11.4\t, 11.55\t, 10.8\t, 11.1\t, 11.1\t, 11.4\t, 11.7\t, \n",
    "           12\t, 12.3\t, 12.45\t, 12.75\t, 13.05\t, 13.35\t, 13.65\t, 13.8\t, 14.1\t, \n",
    "           14.4\t, 14.55\t, 14.85\t, 15\t, 15.3\t, 15.6\t, 15.9\t, 16.2\t, 16.35\t, \n",
    "           16.65\t, 16.95\t, 17.25\t, 17.4\t, 17.7\t, 17.85\t, 18.15\t, 18.45\t, 18.6\t, \n",
    "           18.9\t, 19.2\t, 19.5\t, 19.8\t, 19.95\t, 20.25\t, 20.55\t, 20.85\t, 21\t, \n",
    "           21.15\t, 21.45\t, 21.75\t, 22.05\t, 22.2\t, 22.5\t, 22.8\t, 23.1\t, 23.4\t, \n",
    "           23.55\t, 23.85\t, 24.15\t, 24.45\t, 24.6\t, 24.75\t, 25.05\t, 25.35\t, 25.65\t, \n",
    "           25.8\t, 26.1\t, 26.4\t, 26.7\t, 27\t, 27.15\t, 27.45\t, 27.75\t, 27.9\t, \n",
    "           28.05\t, 28.35\t, 28.65\t, 28.95\t, 29.25\t, 29.4\t, 29.7\t, 30\t, 30.3\t, \n",
    "           30.45\t, 30.75\t, 30.9\t, 31.2\t, 31.5\t, 31.65\t, 31.95\t]\n",
    "\n",
    "\n",
    "xval = np.array(Voltage)\n",
    "yval = np.array(Current)\n",
    "\n",
    "\n"
   ]
  },
  {
   "cell_type": "code",
   "execution_count": 3,
   "metadata": {
    "colab": {
     "base_uri": "https://localhost:8080/",
     "height": 380
    },
    "colab_type": "code",
    "id": "kI8iKJQrHVXV",
    "outputId": "16eb5d9a-08a0-474a-cebd-7ef38beaa1f9"
   },
   "outputs": [
    {
     "name": "stdout",
     "output_type": "stream",
     "text": [
      "local maxes: [ 7.2   9.45 11.4  10.8  11.1  12.3  14.55 17.85 19.8  21.15 24.6  27.15\n",
      " 29.7 ]\n"
     ]
    },
    {
     "data": {
      "image/png": "[encoded data removed]",
      "text/plain": [
       "<Figure size 432x288 with 1 Axes>"
      ]
     },
     "metadata": {
      "needs_background": "light"
     },
     "output_type": "display_data"
    },
    {
     "name": "stdout",
     "output_type": "stream",
     "text": [
      "Distance Between Local Maxes:  [2.25, 1.95, -0.6, 0.3, 1.2, 2.25, 3.3, 1.95, 1.35, 3.45, 2.55, 2.55]\n",
      "Mean of Distances:  1.88\n",
      "Standart Derivation of Distances:  1.12\n"
     ]
    }
   ],
   "source": [
    "# Calculating local maxes and local mins:\n",
    "a = diff(sign(diff(yval))).nonzero()[0] + 1 # local min+max\n",
    "b = (diff(sign(diff(yval))) > 0).nonzero()[0] + 1 # local min\n",
    "c = (diff(sign(diff(yval))) < 0).nonzero()[0] + 1 # local max\n",
    "\n",
    "print(\"local maxes:\" , xval[c])\n",
    "\n",
    "# Graphical output\n",
    "plot(xval,yval)\n",
    "plot(xval[b], yval[b], \"o\", label=\"min\")\n",
    "plot(xval[c], yval[c], \"o\", label=\"max\")\n",
    "plt.scatter( xval , yval )\n",
    "plt.title( 'Accelerating Voltage vs Collector Current')\n",
    "plt.xlabel('Voltage (V)')\n",
    "plt.ylabel ( 'Current (nA)')\n",
    "legend()\n",
    "show()\n",
    "\n",
    "\n",
    "# Calculating distance between local maxes: \n",
    "distance = []\n",
    "\n",
    "for i in range(len(xval[c])):\n",
    "  if i == len(xval[c])-1:\n",
    "    break\n",
    "  else:\n",
    "    dis = xval[c][i+1] - xval[c][i]\n",
    "    distance.append(round(dis,2))\n",
    "\n",
    "print(\"Distance Between Local Maxes: \",distance)\n",
    "\n",
    "# Calculating mean of distances: \n",
    "print(\"Mean of Distances: \",round(mean(distance),2))\n",
    "\n",
    "# Calculating mean of distances: \n",
    "print(\"Standart Derivation of Distances: \", round(np.std(distance, dtype=np.float64),2))\n",
    "\n"
   ]
  },
  {
   "cell_type": "code",
   "execution_count": 4,
   "metadata": {
    "colab": {},
    "colab_type": "code",
    "id": "XePNhnCNIDvV"
   },
   "outputs": [
    {
     "name": "stdout",
     "output_type": "stream",
     "text": [
      "weightedList: [0.3, 0.64, 0.42, 0.69, 0.42, 0.96, 0.74, 0.48, 0.37, 0.27, 0.27, 0.53, 1.11, 69.44]\n",
      "count: 146.65999999999997\n",
      "totalWeight 76.64\n",
      "Weighted Mean: 1.91\n"
     ]
    }
   ],
   "source": [
    "# Calculating weighted mean: \n",
    "\n",
    "meanList = [2.78, 3.9, 1.68, 2.1, 2.6, 1.79, 1.59, 2.47, 1.78, 3.34, 3.6, 2.73, 1.33, 1.88]\n",
    "stdList = [1.82, 1.25, 1.54, 1.2, 1.54, 1.02, 1.16, 1.44, 1.64, 1.92, 1.91, 1.38, 0.95, 0.12]\n",
    "\n",
    "weightList = []\n",
    "for i in range(len(stdList)):\n",
    "  weight = 1/(stdList[i]*stdList[i])\n",
    "  weightList.append(round(weight,2))\n",
    "print(\"weightedList:\", weightList)\n",
    "\n",
    "count = 0;\n",
    "for j in range(len(meanList)):\n",
    "  count = count + (weightList[j]*meanList[j])\n",
    "print(\"count:\", count)\n",
    "\n",
    "totalWeight = 0;\n",
    "for k in range(0, len(weightList)): \n",
    "    totalWeight = totalWeight + weightList[k] \n",
    "print(\"totalWeight\", totalWeight)\n",
    "\n",
    "\n",
    "weightedMean = count/totalWeight\n",
    "\n",
    "print(\"Weighted Mean:\",round(weightedMean,2))"
   ]
  },
  {
   "cell_type": "code",
   "execution_count": 5,
   "metadata": {},
   "outputs": [
    {
     "name": "stdout",
     "output_type": "stream",
     "text": [
      "1.6\n"
     ]
    }
   ],
   "source": [
    "#Error\n",
    "Error = (4.98 - weightedMean)/weightedMean\n",
    "print(round(Error,2))"
   ]
  },
  {
   "cell_type": "code",
   "execution_count": null,
   "metadata": {},
   "outputs": [],
   "source": []
  }
 ],
 "metadata": {
  "colab": {
   "name": "FranckHertzExperiment.ipynb",
   "provenance": []
  },
  "kernelspec": {
   "display_name": "Python 3",
   "language": "python",
   "name": "python3"
  },
  "language_info": {
   "codemirror_mode": {
    "name": "ipython",
    "version": 3
   },
   "file_extension": ".py",
   "mimetype": "text/x-python",
   "name": "python",
   "nbconvert_exporter": "python",
   "pygments_lexer": "ipython3",
   "version": "3.7.4"
  }
 },
 "nbformat": 4,
 "nbformat_minor": 1
}
