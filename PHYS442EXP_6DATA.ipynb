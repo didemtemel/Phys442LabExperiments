{
 "cells": [
  {
   "cell_type": "code",
   "execution_count": 0,
   "metadata": {
    "colab": {},
    "colab_type": "code",
    "id": "A1VoSkmLtSwm"
   },
   "outputs": [],
   "source": [
    "import matplotlib.pyplot as plt\n",
    "import numpy as np \n",
    "from scipy.optimize import curve_fit\n",
    "from scipy.signal import find_peaks\n",
    "from numpy import *\n",
    "from pylab import *\n"
   ]
  },
  {
   "cell_type": "markdown",
   "metadata": {
    "colab_type": "text",
    "id": "lR9v0lES0SQM"
   },
   "source": [
    "## Dataset 1"
   ]
  },
  {
   "cell_type": "code",
   "execution_count": 130,
   "metadata": {
    "colab": {
     "base_uri": "https://localhost:8080/",
     "height": 363
    },
    "colab_type": "code",
    "id": "oiIE29yl0Vpm",
    "outputId": "900bdd9f-b940-4f10-8c27-903943c00b37"
   },
   "outputs": [
    {
     "name": "stdout",
     "output_type": "stream",
     "text": [
      "local maxes: [ 3.6   5.1   6.75  7.2   9.9  15.15 20.25]\n"
     ]
    },
    {
     "data": {
      "image/png": "[encoded data removed]",
      "text/plain": [
       "<Figure size 432x288 with 1 Axes>"
      ]
     },
     "metadata": {
      "needs_background": "light",
      "tags": []
     },
     "output_type": "display_data"
    },
    {
     "name": "stdout",
     "output_type": "stream",
     "text": [
      "Distance Between Local Maxes:  [1.5, 1.65, 0.45, 2.7, 5.25, 5.1]\n",
      "Mean of Distances:  2.78\n",
      "Standart Derivation of Distances:  1.82\n"
     ]
    }
   ],
   "source": [
    "# Dataset:\n",
    "\n",
    "Current = [ 0.14\t, 0.23\t, 0.235\t, 0.315\t, 0.31\t, 0.455\t, 0.575\t, 0.705\t, 0.795\t, 0.9\t, 0.88\t, 0.65\t, 0.29\t, 0.18\t, 0.16\t, 0.185\t, 0.165\t, 0.22\t, 0.205\t, 0.27\t, 0.33\t, 0.44\t, 0.555\t, 0.735\t, 0.97\t, 1.14\t, 1.38\t, 1.47\t, 1.53\t, 1.48\t, 1.255\t, 0.945\t, 0.745\t, 0.48\t, 0.365\t, 0.31\t, 0.235\t, 0.315\t, 0.34\t, 0.44\t, 0.52\t, 0.69\t, 0.88\t, 1.045\t, 1.33\t, 1.56\t, 1.77\t, 1.93\t, 2.02\t, 1.965\t, 1.71\t, 1.445\t, 1.13\t, 0.915\t, 0.725\t, 0.695\t, 0.585\t, 0.6\t, 0.655\t, 0.73\t, 0.78\t, 0.955\t, 1.185\t, 1.465\t, 1.74\t, 2.02\t, 2.07\t, 2.28\t, 2.285\t, 2.2\t, 1.96\t, 1.88\t]\n",
    "Voltage = [2.7\t, 3\t, 3.3\t, 3.6\t, 3.9\t, 4.05\t, 4.2\t, 4.5\t, 4.8\t, 5.1\t, 5.4\t, 5.7\t, 5.7\t, 6.3\t, 6.6\t, 6.75\t, 6.9\t, 7.2\t, 7.5\t, 7.65\t, 7.95\t, 8.25\t, 8.55\t, 8.85\t, 9.15\t, 9.3\t, 9.45\t, 9.75\t, 9.9\t, 10.2\t, 10.5\t, 10.65\t, 10.95\t, 11.25\t, 11.55\t, 11.85\t, 12\t, 12.45\t, 12.75\t, 12.75\t, 13.05\t, 13.35\t, 13.65\t, 13.8\t, 14.1\t, 14.4\t, 14.55\t, 14.85\t, 15.15\t, 15.3\t, 15.6\t, 15.9\t, 16.05\t, 16.35\t, 16.65\t, 16.95\t, 17.25\t, 17.55\t, 17.7\t, 18\t, 18.3\t, 18.45\t, 18.75\t, 19.05\t, 19.35\t, 19.5\t, 19.8\t, 19.95\t, 20.25\t, 20.55\t, 20.85\t, 21.15\t]\n",
    "\n",
    "xval = np.array(Voltage)\n",
    "yval = np.array(Current)\n",
    "\n",
    "\n",
    "# Calculating local maxes and local mins:\n",
    "a = diff(sign(diff(yval))).nonzero()[0] + 1 # local min+max\n",
    "b = (diff(sign(diff(yval))) > 0).nonzero()[0] + 1 # local min\n",
    "c = (diff(sign(diff(yval))) < 0).nonzero()[0] + 1 # local max\n",
    "\n",
    "print(\"local maxes:\" , xval[c])\n",
    "# Graphical output\n",
    "plot(xval,yval)\n",
    "plot(xval[b], yval[b], \"o\", label=\"min\")\n",
    "plot(xval[c], yval[c], \"o\", label=\"max\")\n",
    "plt.scatter( xval , yval )\n",
    "plt.title( 'Accelerating Voltage vs Collector Current')\n",
    "plt.xlabel('Voltage (V)')\n",
    "plt.ylabel ( 'Current (nA)')\n",
    "legend()\n",
    "show()\n",
    "\n",
    "\n",
    "# Calculating distance between local maxes: \n",
    "distance = []\n",
    "\n",
    "for i in range(len(xval[c])):\n",
    "  if i == len(xval[c])-1:\n",
    "    break\n",
    "  else:\n",
    "    dis = xval[c][i+1] - xval[c][i]\n",
    "    distance.append(round(dis,2))\n",
    "\n",
    "print(\"Distance Between Local Maxes: \",distance)\n",
    "\n",
    "# Calculating mean of distances: \n",
    "print(\"Mean of Distances: \",round(mean(distance),2))\n",
    "\n",
    "# Calculating mean of distances: \n",
    "print(\"Standart Derivation of Distances: \", round(np.std(distance, dtype=np.float64),2))\n",
    "\n",
    "dataset1Mean = round(mean(distance),2)\n",
    "\n",
    "weightList = []\n",
    "std = round(np.std(distance, dtype=np.float64),2)\n",
    "weight = 1/(std*std)\n",
    "weightList.append(weight)\n",
    "\n",
    "valueMeanList = []\n",
    "valueMeanList.append(round(mean(distance),2))\n"
   ]
  },
  {
   "cell_type": "markdown",
   "metadata": {
    "colab_type": "text",
    "id": "4Ez4Y_0RVoWv"
   },
   "source": [
    "### Weighted Mean"
   ]
  },
  {
   "cell_type": "code",
   "execution_count": 139,
   "metadata": {
    "colab": {
     "base_uri": "https://localhost:8080/",
     "height": 85
    },
    "colab_type": "code",
    "id": "lyiRlPPGVn54",
    "outputId": "10597231-9027-4976-cb1e-ab9c9afa9378"
   },
   "outputs": [
    {
     "name": "stdout",
     "output_type": "stream",
     "text": [
      "weightedList: [0.3, 0.64, 0.42, 0.69, 0.42, 0.96, 0.74, 0.48, 0.37, 0.27, 0.27, 0.53, 1.11, 69.44]\n",
      "count: 146.65999999999997\n",
      "totalWeight 76.64\n",
      "Weighted Mean: 1.91\n"
     ]
    }
   ],
   "source": [
    "meanList = [2.78, 3.9, 1.68, 2.1, 2.6, 1.79, 1.59, 2.47, 1.78, 3.34, 3.6, 2.73, 1.33, 1.88]\n",
    "stdList = [1.82, 1.25, 1.54, 1.2, 1.54, 1.02, 1.16, 1.44, 1.64, 1.92, 1.91, 1.38, 0.95, 0.12]\n",
    "\n",
    "weightList = []\n",
    "for i in range(len(stdList)):\n",
    "  weight = 1/(stdList[i]*stdList[i])\n",
    "  weightList.append(round(weight,2))\n",
    "print(\"weightedList:\", weightList)\n",
    "\n",
    "count = 0;\n",
    "for j in range(len(meanList)):\n",
    "  count = count + (weightList[j]*meanList[j])\n",
    "print(\"count:\", count)\n",
    "\n",
    "totalWeight = 0;\n",
    "for k in range(0, len(weightList)): \n",
    "    totalWeight = totalWeight + weightList[k] \n",
    "print(\"totalWeight\", totalWeight)\n",
    "\n",
    "\n",
    "weightedMean = count/totalWeight\n",
    "\n",
    "print(\"Weighted Mean:\",round(weightedMean,2))"
   ]
  },
  {
   "cell_type": "markdown",
   "metadata": {
    "colab_type": "text",
    "id": "MCpu6EoTY2Xd"
   },
   "source": [
    "### Error"
   ]
  },
  {
   "cell_type": "code",
   "execution_count": 140,
   "metadata": {
    "colab": {
     "base_uri": "https://localhost:8080/",
     "height": 34
    },
    "colab_type": "code",
    "id": "TXeZyuzSY1RK",
    "outputId": "f3eee763-d502-4407-a08b-d7595f2e8f0f"
   },
   "outputs": [
    {
     "name": "stdout",
     "output_type": "stream",
     "text": [
      "1.6\n"
     ]
    }
   ],
   "source": [
    "Error = (4.98 - weightedMean)/weightedMean\n",
    "print(round(Error,2))"
   ]
  }
 ],
 "metadata": {
  "colab": {
   "name": "PHYS442EXP#6DATA.ipynb",
   "provenance": []
  },
  "kernelspec": {
   "display_name": "Python 3",
   "language": "python",
   "name": "python3"
  },
  "language_info": {
   "codemirror_mode": {
    "name": "ipython",
    "version": 3
   },
   "file_extension": ".py",
   "mimetype": "text/x-python",
   "name": "python",
   "nbconvert_exporter": "python",
   "pygments_lexer": "ipython3",
   "version": "3.7.4"
  }
 },
 "nbformat": 4,
 "nbformat_minor": 1
}
